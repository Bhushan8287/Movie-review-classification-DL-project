{
 "cells": [
  {
   "cell_type": "code",
   "execution_count": 1,
   "metadata": {},
   "outputs": [],
   "source": [
    "import tensorflow as tf\n",
    "import pickle\n",
    "from tensorflow.keras.preprocessing import sequence\n",
    "from tensorflow.keras.models import load_model\n",
    "from tensorflow.keras.preprocessing.sequence import pad_sequences"
   ]
  },
  {
   "cell_type": "code",
   "execution_count": 2,
   "metadata": {},
   "outputs": [],
   "source": [
    "final_best_model = load_model('best_model.keras')\n",
    "tokenizer_object = 'tokenizer.pkl'\n",
    "with open(tokenizer_object, 'rb') as file:\n",
    "    tokenizer = pickle.load(file)\n",
    "\n",
    "maxlength_object = 'max_length.pkl'\n",
    "with open(maxlength_object, 'rb') as file:\n",
    "    maxlength_object = pickle.load(file)\n",
    "\n",
    "threshold_object = 'best_threshold.pkl'\n",
    "with open(threshold_object, 'rb') as file:\n",
    "    threshold_object = pickle.load(file)"
   ]
  },
  {
   "cell_type": "code",
   "execution_count": 3,
   "metadata": {},
   "outputs": [],
   "source": [
    "# Long complex movie reviews that delve into nuanced opinions and perspectives\n",
    "movie_reviews = [\n",
    "    \"The film presents a deeply layered narrative that intertwines themes of loss, redemption, and human connection. While the pacing was deliberate, it allowed the emotional weight of each scene to resonate with the audience. The cinematography was breathtaking, capturing the stark beauty of the landscapes and the raw intensity of the characters' emotions. However, the overly ambiguous ending left some viewers dissatisfied, as it raised more questions than it answered.\",\n",
    "    \"A bold attempt at exploring societal issues through a dystopian lens, the movie falls short in execution. The script tries to juggle too many subplots, leaving several unresolved by the end. While the lead actor delivers a powerful performance, the supporting cast felt underutilized, and the soundtrack, though haunting, sometimes overshadowed critical dialogue. Nonetheless, the film's ambition deserves commendation, even if the result was uneven.\",\n",
    "    \"This is not merely a story; it's an experience. The director meticulously crafts every frame to evoke a sense of nostalgia and longing. The subtle interplay between light and shadow adds depth to the narrative, while the characters' imperfections make them utterly relatable. It might not appeal to those seeking high-octane action, but for viewers craving meaningful storytelling, it's a treasure trove.\",\n",
    "    \"An extraordinary blend of horror and psychological drama, the film toys with the audience's perception of reality. Its slow-burning tension builds to a crescendo in the final act, leaving viewers stunned and introspective. The symbolism woven into the narrative invites multiple interpretations, turning the movie into a puzzle that lingers in your mind long after the credits roll. However, its complexity might alienate casual moviegoers.\",\n",
    "    \"The film boasts a star-studded cast and lush production design, but unfortunately, it leans too heavily on spectacle over substance. While visually stunning, the narrative lacked emotional resonance, and the dialogues often felt contrived. The pacing was inconsistent, and the plot twists, though unexpected, failed to leave a lasting impact. It's an entertaining watch but doesn't rise above mediocrity.\",\n",
    "    \"A heartfelt exploration of family dynamics and intergenerational conflict, the movie succeeds in portraying the complexity of human relationships. The screenplay was deeply moving, supported by stellar performances from the cast. The musical score complemented the emotional beats perfectly, enhancing the overall experience. Despite its brilliance, some might find the narrative overly sentimental at times.\",\n",
    "    \"Brilliantly executed with masterful precision, the film pushes the boundaries of storytelling. Every element—be it the plot, characters, or cinematography—works cohesively to create a deeply immersive experience. The layers of meaning embedded in the script challenge the audience to think critically, making this film a rare gem in modern cinema. However, its unorthodox approach may polarize viewers.\",\n",
    "    \"Although the premise holds promise, the execution is far from perfect. The pacing is erratic, and the character arcs feel rushed, leaving little room for emotional engagement. The visuals are undoubtedly captivating, and the soundtrack elevates certain scenes, but the lack of coherence in the storytelling undermines the overall impact. It’s a film that has potential but fails to capitalize on it.\",\n",
    "    \"A cinematic marvel that breathes life into a well-worn genre. The dialogues are sharp and witty, and the performances from the ensemble cast are nothing short of spectacular. The director's nuanced handling of sensitive themes deserves praise, as does the seamless integration of the musical score into the narrative. While nearly flawless, the third act drags a bit, leaving a slight blemish on an otherwise stellar film.\",\n",
    "    \"The movie dives headfirst into exploring the human psyche, unraveling profound existential questions. Its daring approach to storytelling is matched by its striking visuals and brilliant performances. The nonlinear narrative may confuse some viewers, but those willing to engage with its complexity will find it deeply rewarding. It's a bold cinematic achievement that isn't afraid to challenge conventions.\"\n",
    "]"
   ]
  },
  {
   "cell_type": "code",
   "execution_count": 4,
   "metadata": {},
   "outputs": [],
   "source": [
    "new_reviews_sequences = tokenizer.texts_to_sequences(movie_reviews)\n",
    "padded_new_reviews = pad_sequences(new_reviews_sequences, padding='post', truncating='post', maxlen=maxlength_object)"
   ]
  },
  {
   "cell_type": "code",
   "execution_count": 5,
   "metadata": {},
   "outputs": [
    {
     "name": "stdout",
     "output_type": "stream",
     "text": [
      "\u001b[1m1/1\u001b[0m \u001b[32m━━━━━━━━━━━━━━━━━━━━\u001b[0m\u001b[37m\u001b[0m \u001b[1m0s\u001b[0m 260ms/step\n"
     ]
    }
   ],
   "source": [
    "predictions = final_best_model.predict(padded_new_reviews)"
   ]
  },
  {
   "cell_type": "code",
   "execution_count": 6,
   "metadata": {},
   "outputs": [
    {
     "data": {
      "text/plain": [
       "array([[0.9217708 ],\n",
       "       [0.19113214],\n",
       "       [0.5885772 ],\n",
       "       [0.81452525],\n",
       "       [0.300905  ],\n",
       "       [0.94802755],\n",
       "       [0.8816198 ],\n",
       "       [0.5360552 ],\n",
       "       [0.920713  ],\n",
       "       [0.9473873 ]], dtype=float32)"
      ]
     },
     "execution_count": 6,
     "metadata": {},
     "output_type": "execute_result"
    }
   ],
   "source": [
    "predictions"
   ]
  },
  {
   "cell_type": "code",
   "execution_count": 7,
   "metadata": {},
   "outputs": [
    {
     "name": "stdout",
     "output_type": "stream",
     "text": [
      "Review: The film presents a deeply layered narrative that intertwines themes of loss, redemption, and human connection. While the pacing was deliberate, it allowed the emotional weight of each scene to resonate with the audience. The cinematography was breathtaking, capturing the stark beauty of the landscapes and the raw intensity of the characters' emotions. However, the overly ambiguous ending left some viewers dissatisfied, as it raised more questions than it answered.\n",
      "Probability: 0.9218\n",
      "Prediction: Positive\n",
      "--------------------------------------------------\n",
      "Review: A bold attempt at exploring societal issues through a dystopian lens, the movie falls short in execution. The script tries to juggle too many subplots, leaving several unresolved by the end. While the lead actor delivers a powerful performance, the supporting cast felt underutilized, and the soundtrack, though haunting, sometimes overshadowed critical dialogue. Nonetheless, the film's ambition deserves commendation, even if the result was uneven.\n",
      "Probability: 0.1911\n",
      "Prediction: Negative\n",
      "--------------------------------------------------\n",
      "Review: This is not merely a story; it's an experience. The director meticulously crafts every frame to evoke a sense of nostalgia and longing. The subtle interplay between light and shadow adds depth to the narrative, while the characters' imperfections make them utterly relatable. It might not appeal to those seeking high-octane action, but for viewers craving meaningful storytelling, it's a treasure trove.\n",
      "Probability: 0.5886\n",
      "Prediction: Positive\n",
      "--------------------------------------------------\n",
      "Review: An extraordinary blend of horror and psychological drama, the film toys with the audience's perception of reality. Its slow-burning tension builds to a crescendo in the final act, leaving viewers stunned and introspective. The symbolism woven into the narrative invites multiple interpretations, turning the movie into a puzzle that lingers in your mind long after the credits roll. However, its complexity might alienate casual moviegoers.\n",
      "Probability: 0.8145\n",
      "Prediction: Positive\n",
      "--------------------------------------------------\n",
      "Review: The film boasts a star-studded cast and lush production design, but unfortunately, it leans too heavily on spectacle over substance. While visually stunning, the narrative lacked emotional resonance, and the dialogues often felt contrived. The pacing was inconsistent, and the plot twists, though unexpected, failed to leave a lasting impact. It's an entertaining watch but doesn't rise above mediocrity.\n",
      "Probability: 0.3009\n",
      "Prediction: Negative\n",
      "--------------------------------------------------\n",
      "Review: A heartfelt exploration of family dynamics and intergenerational conflict, the movie succeeds in portraying the complexity of human relationships. The screenplay was deeply moving, supported by stellar performances from the cast. The musical score complemented the emotional beats perfectly, enhancing the overall experience. Despite its brilliance, some might find the narrative overly sentimental at times.\n",
      "Probability: 0.9480\n",
      "Prediction: Positive\n",
      "--------------------------------------------------\n",
      "Review: Brilliantly executed with masterful precision, the film pushes the boundaries of storytelling. Every element—be it the plot, characters, or cinematography—works cohesively to create a deeply immersive experience. The layers of meaning embedded in the script challenge the audience to think critically, making this film a rare gem in modern cinema. However, its unorthodox approach may polarize viewers.\n",
      "Probability: 0.8816\n",
      "Prediction: Positive\n",
      "--------------------------------------------------\n",
      "Review: Although the premise holds promise, the execution is far from perfect. The pacing is erratic, and the character arcs feel rushed, leaving little room for emotional engagement. The visuals are undoubtedly captivating, and the soundtrack elevates certain scenes, but the lack of coherence in the storytelling undermines the overall impact. It’s a film that has potential but fails to capitalize on it.\n",
      "Probability: 0.5361\n",
      "Prediction: Positive\n",
      "--------------------------------------------------\n",
      "Review: A cinematic marvel that breathes life into a well-worn genre. The dialogues are sharp and witty, and the performances from the ensemble cast are nothing short of spectacular. The director's nuanced handling of sensitive themes deserves praise, as does the seamless integration of the musical score into the narrative. While nearly flawless, the third act drags a bit, leaving a slight blemish on an otherwise stellar film.\n",
      "Probability: 0.9207\n",
      "Prediction: Positive\n",
      "--------------------------------------------------\n",
      "Review: The movie dives headfirst into exploring the human psyche, unraveling profound existential questions. Its daring approach to storytelling is matched by its striking visuals and brilliant performances. The nonlinear narrative may confuse some viewers, but those willing to engage with its complexity will find it deeply rewarding. It's a bold cinematic achievement that isn't afraid to challenge conventions.\n",
      "Probability: 0.9474\n",
      "Prediction: Positive\n",
      "--------------------------------------------------\n"
     ]
    }
   ],
   "source": [
    "# Classify new reviews using the optimal threshold\n",
    "classified_reviews = (predictions >= threshold_object).astype(int)\n",
    "\n",
    "# Print the predictions\n",
    "for review, pred, prob in zip(movie_reviews, classified_reviews, predictions):\n",
    "    label = \"Positive\" if pred == 1 else \"Negative\"\n",
    "    print(f\"Review: {review}\\nProbability: {prob[0]:.4f}\\nPrediction: {label}\\n{'-'*50}\")"
   ]
  },
  {
   "cell_type": "markdown",
   "metadata": {},
   "source": [
    "# **Model Evaluation Summary**\n",
    "\n",
    "## 1️. **Overall Model Performance**\n",
    "- **Out of 10 reviews:**\n",
    "  - ✅ **9 correctly classified** → **90% accuracy**\n",
    "  - ❌ **1 misclassified**\n",
    "- **Accuracy on this batch:**  \n",
    "\\[\n",
    "\\text{Accuracy} = \\frac{9}{10} = 90\\%\n",
    "\\]\n",
    "- The model is **generalizing well** on unseen data.\n",
    "\n",
    "---\n",
    "\n",
    "## 2️. **Misclassified Review Analysis**\n",
    "- **Review:**  \n",
    "> *\"Although the premise holds promise, the execution is far from perfect. The pacing is erratic, and the character arcs feel rushed, leaving little room for emotional engagement. The visuals are undoubtedly captivating, and the soundtrack elevates certain scenes, but the lack of coherence in the storytelling undermines the overall impact. It’s a film that has potential but fails to capitalize on it.\"*  \n",
    "\n",
    "- **Model's Prediction:**  \n",
    "  - **Probability:** 0.5361 → Predicted **Positive**\n",
    "  - **True Sentiment:** **Negative**\n",
    "\n",
    "### **Possible Reasons for Misclassification:**\n",
    "1. **Ambiguous Language and Mixed Sentiment:**\n",
    "   - The review contains both **positive and negative phrases**.\n",
    "   - The model may have **weighed the positive-sounding phrases** more heavily.\n",
    "2. **Threshold Limitation:**\n",
    "   - With the **0.4138 threshold**, reviews near the threshold can still be misclassified.\n"
   ]
  }
 ],
 "metadata": {
  "kernelspec": {
   "display_name": "rnnproject",
   "language": "python",
   "name": "python3"
  },
  "language_info": {
   "codemirror_mode": {
    "name": "ipython",
    "version": 3
   },
   "file_extension": ".py",
   "mimetype": "text/x-python",
   "name": "python",
   "nbconvert_exporter": "python",
   "pygments_lexer": "ipython3",
   "version": "3.11.11"
  }
 },
 "nbformat": 4,
 "nbformat_minor": 2
}
